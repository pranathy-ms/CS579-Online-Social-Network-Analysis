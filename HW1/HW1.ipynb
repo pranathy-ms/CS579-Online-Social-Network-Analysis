{
 "cells": [
  {
   "cell_type": "markdown",
   "metadata": {},
   "source": []
  },
  {
   "cell_type": "code",
   "execution_count": 2,
   "metadata": {},
   "outputs": [],
   "source": [
    "import networkx as nx\n",
    "import pandas as pd\n",
    "import numpy as np\n",
    "import matplotlib.pyplot as plt"
   ]
  },
  {
   "cell_type": "code",
   "execution_count": 3,
   "metadata": {},
   "outputs": [],
   "source": [
    "adj_matrix = np.array([\n",
    "     [0,0,0,1,0,0,0,1,0,1],\n",
    "     [0,0,1,0,0,1,0,1,0,0],\n",
    "     [0,1,0,0,0,0,0,0,0,1],\n",
    "     [1,0,0,0,1,1,0,0,0,0],\n",
    "     [0,0,0,1,0,0,0,1,0,0],\n",
    "     [0,1,0,1,0,0,1,0,0,1],\n",
    "     [0,0,0,0,0,1,0,1,0,1],\n",
    "     [1,1,0,0,1,0,1,0,1,0],\n",
    "     [0,0,0,0,0,0,0,1,0,1],\n",
    "     [1,0,1,0,0,1,1,0,1,0]\n",
    "])"
   ]
  },
  {
   "cell_type": "code",
   "execution_count": 4,
   "metadata": {},
   "outputs": [],
   "source": [
    "G = nx.Graph()\n",
    "node_names = range(adj_matrix.shape[0]) # A.shape[0] gives the number of nodes\n",
    "G.add_nodes_from(node_names)"
   ]
  },
  {
   "cell_type": "code",
   "execution_count": 5,
   "metadata": {},
   "outputs": [
    {
     "name": "stdout",
     "output_type": "stream",
     "text": [
      "[(0, 3), (0, 7), (0, 9), (1, 2), (1, 5), (1, 7), (2, 9), (3, 4), (3, 5), (4, 7), (5, 6), (5, 9), (6, 7), (6, 9), (7, 8), (8, 9)]\n"
     ]
    }
   ],
   "source": [
    "for i in range(adj_matrix.shape[0]):\n",
    "    for j in range(adj_matrix.shape[1]):\n",
    "        if adj_matrix[i, j] == 1:\n",
    "            G.add_edge(i, j)\n",
    "\n",
    "print(G.edges()) "
   ]
  },
  {
   "cell_type": "code",
   "execution_count": 6,
   "metadata": {},
   "outputs": [
    {
     "data": {
      "image/png": "[encoded data removed]",
      "text/plain": [
       "<Figure size 640x480 with 1 Axes>"
      ]
     },
     "metadata": {},
     "output_type": "display_data"
    }
   ],
   "source": [
    "# Q1. Calculate the degree of each node in the graph\n",
    "degree_sequence = [d for n, d in G.degree()]\n",
    "\n",
    "# Count the frequency of each degree value\n",
    "degree_counts = {}\n",
    "for degree in degree_sequence:\n",
    "    degree_counts[degree] = degree_counts.get(degree, 0) + 1\n",
    "\n",
    "# Plot the degree distribution as a graph\n",
    "plt.bar(degree_counts.keys(), degree_counts.values())\n",
    "plt.title(\"Degree Distribution\")\n",
    "plt.xlabel(\"Degree\")\n",
    "plt.ylabel(\"Frequency\")\n",
    "plt.show()"
   ]
  },
  {
   "cell_type": "code",
   "execution_count": 7,
   "metadata": {},
   "outputs": [
    {
     "name": "stdout",
     "output_type": "stream",
     "text": [
      "   Degree Centrality  Betweenness Centrality  Closeness Centrality  \\\n",
      "0           0.333333                0.071296              0.600000   \n",
      "1           0.333333                0.092593              0.600000   \n",
      "2           0.222222                0.013889              0.500000   \n",
      "3           0.333333                0.066667              0.529412   \n",
      "4           0.222222                0.020833              0.500000   \n",
      "5           0.444444                0.128241              0.642857   \n",
      "6           0.333333                0.028704              0.600000   \n",
      "7           0.555556                0.266667              0.692308   \n",
      "8           0.222222                0.014815              0.529412   \n",
      "9           0.555556                0.212963              0.642857   \n",
      "\n",
      "   Degree Rank  Betweenness Rank  Closeness Rank  \n",
      "0          5.5               5.0             5.0  \n",
      "1          5.5               4.0             5.0  \n",
      "2          9.0              10.0             9.5  \n",
      "3          5.5               6.0             7.5  \n",
      "4          9.0               8.0             9.5  \n",
      "5          3.0               3.0             2.5  \n",
      "6          5.5               7.0             5.0  \n",
      "7          1.5               1.0             1.0  \n",
      "8          9.0               9.0             7.5  \n",
      "9          1.5               2.0             2.5  \n"
     ]
    }
   ],
   "source": [
    "#Q5. Calculate centrality measures\n",
    "degree_centrality = nx.degree_centrality(G)\n",
    "betweenness_centrality = nx.betweenness_centrality(G)\n",
    "closeness_centrality = nx.closeness_centrality(G)\n",
    "\n",
    "# Convert centrality measures to pandas DataFrame for easy manipulation\n",
    "centrality_df = pd.DataFrame({\n",
    "    'Degree Centrality': degree_centrality,\n",
    "    'Betweenness Centrality': betweenness_centrality,\n",
    "    'Closeness Centrality': closeness_centrality\n",
    "})\n",
    "\n",
    "# Sort nodes by centrality measures and assign ranks\n",
    "centrality_df['Degree Rank'] = centrality_df['Degree Centrality'].rank(ascending=False)\n",
    "centrality_df['Betweenness Rank'] = centrality_df['Betweenness Centrality'].rank(ascending=False)\n",
    "centrality_df['Closeness Rank'] = centrality_df['Closeness Centrality'].rank(ascending=False)\n",
    "\n",
    "# Display the centrality measures and ranks\n",
    "print(centrality_df)"
   ]
  },
  {
   "cell_type": "code",
   "execution_count": 8,
   "metadata": {},
   "outputs": [
    {
     "name": "stdout",
     "output_type": "stream",
     "text": [
      "Clustering coefficient of the entire graph: 0.06\n"
     ]
    }
   ],
   "source": [
    "#Q6. Calculate the clustering coefficient of the entire graph\n",
    "graph_clustering_coefficient = nx.average_clustering(G)\n",
    "\n",
    "print(\"Clustering coefficient of the entire graph:\", graph_clustering_coefficient)"
   ]
  },
  {
   "cell_type": "code",
   "execution_count": 9,
   "metadata": {},
   "outputs": [
    {
     "name": "stdout",
     "output_type": "stream",
     "text": [
      "Local clustering coefficients of individual nodes:\n",
      "Node 0 : 0\n",
      "Node 1 : 0\n",
      "Node 2 : 0\n",
      "Node 3 : 0\n",
      "Node 4 : 0\n",
      "Node 5 : 0.16666666666666666\n",
      "Node 6 : 0.3333333333333333\n",
      "Node 7 : 0\n",
      "Node 8 : 0\n",
      "Node 9 : 0.1\n",
      "\n",
      "Average local clustering coefficient: 0.06\n"
     ]
    }
   ],
   "source": [
    "# Calculate the clustering coefficient for individual nodes\n",
    "node_clustering_coefficients = nx.clustering(G)\n",
    "\n",
    "# Print the local clustering coefficient of each node\n",
    "print(\"Local clustering coefficients of individual nodes:\")\n",
    "for node, cc in node_clustering_coefficients.items():\n",
    "    print(\"Node\", node, \":\", cc)\n",
    "\n",
    "# Calculate the average of the local clustering coefficients\n",
    "local_clustering_coefficients = list(node_clustering_coefficients.values())\n",
    "average_local_clustering_coefficient = sum(local_clustering_coefficients) / len(local_clustering_coefficients)\n",
    "\n",
    "print(\"\\nAverage local clustering coefficient:\", average_local_clustering_coefficient)\n"
   ]
  },
  {
   "cell_type": "code",
   "execution_count": 10,
   "metadata": {},
   "outputs": [
    {
     "name": "stdout",
     "output_type": "stream",
     "text": [
      "PageRank for each node: alpha:  1  beta:  0\n",
      "Node: 1 PageRank: 0.33333260221557337\n",
      "Node: 2 PageRank: 0.11111141117268056\n",
      "Node: 3 PageRank: 0.33333369598839135\n",
      "Node: 4 PageRank: 0.22222229062335402\n",
      "PageRank for each node: alpha:  0.3  beta:  0.3\n",
      "Node: 1 PageRank: 0.25876513\n",
      "Node: 2 PageRank: 0.20087667499999998\n",
      "Node: 3 PageRank: 0.2792185175\n",
      "Node: 4 PageRank: 0.2611396775\n",
      "PageRank for each node: alpha:  0.85  beta:  1\n",
      "Node: 1 PageRank: 0.31409230948584155\n",
      "Node: 2 PageRank: 0.1264931095706823\n",
      "Node: 3 PageRank: 0.32540314534572534\n",
      "Node: 4 PageRank: 0.23401143559775067\n",
      "PageRank for each node: alpha:  0  beta:  1\n",
      "Node: 1 PageRank: 0.25\n",
      "Node: 2 PageRank: 0.25\n",
      "Node: 3 PageRank: 0.25\n",
      "Node: 4 PageRank: 0.25\n"
     ]
    }
   ],
   "source": [
    "#Q8. Create a graph with 4 nodes\n",
    "G = nx.DiGraph()\n",
    "G.add_nodes_from([1, 2, 3, 4])\n",
    "\n",
    "# Add edges to the graph (replace this with your graph data)\n",
    "G.add_edges_from([(1, 2), (1,3), (1,4), (2,4), (3,1), (4,3)])\n",
    "\n",
    "alpha = [1,0.3,0.85,0]\n",
    "beta = [0,0.3,1,1]\n",
    "\n",
    "for a,b in zip(alpha, beta):\n",
    "    # Compute PageRank\n",
    "    page_rank = nx.pagerank(G, alpha=a)\n",
    "\n",
    "    # Print PageRank for each node\n",
    "    print(\"PageRank for each node: alpha: \", a,\" beta: \", b)\n",
    "    for node, rank in page_rank.items():\n",
    "        print(\"Node:\", node, \"PageRank:\", rank)\n"
   ]
  },
  {
   "cell_type": "code",
   "execution_count": 11,
   "metadata": {},
   "outputs": [
    {
     "name": "stdout",
     "output_type": "stream",
     "text": [
      "PageRank for each node: alpha = 1 , beta = 0\n",
      "Node: 1 PageRank: 0.33333333333333304\n",
      "Node: 2 PageRank: 0.11111111111111127\n",
      "Node: 3 PageRank: 0.3333333333333336\n",
      "Node: 4 PageRank: 0.22222222222222215\n",
      "PageRank for each node: alpha = 0.3 , beta = 0.3\n",
      "Node: 1 PageRank: 0.25171554611551344\n",
      "Node: 2 PageRank: 0.2273507066416142\n",
      "Node: 3 PageRank: 0.26258067151376524\n",
      "Node: 4 PageRank: 0.25835307572910704\n",
      "PageRank for each node: alpha = 0.85 , beta = 1\n",
      "Node: 1 PageRank: 0.25270984543118913\n",
      "Node: 2 PageRank: 0.22182022457443407\n",
      "Node: 3 PageRank: 0.265940267242289\n",
      "Node: 4 PageRank: 0.25952966275208783\n",
      "PageRank for each node: alpha = 0 , beta = 1\n",
      "Node: 1 PageRank: 0.25\n",
      "Node: 2 PageRank: 0.25\n",
      "Node: 3 PageRank: 0.25\n",
      "Node: 4 PageRank: 0.25\n"
     ]
    }
   ],
   "source": [
    "#Q8. PageRank calculation\n",
    "def custom_pagerank(G, alpha, beta):\n",
    "    n = len(G)\n",
    "    if n == 0:\n",
    "        return {}\n",
    "    \n",
    "    # Initialize PageRank values\n",
    "    pagerank = dict.fromkeys(G, 1.0 / n)\n",
    "\n",
    "    # Calculate teleportation probability\n",
    "    teleportation_prob = 1 - alpha\n",
    "\n",
    "    # Iterate over iterations\n",
    "    for _ in range(100):\n",
    "        new_pagerank = {}\n",
    "        for node in G:\n",
    "            # Calculate PageRank contribution from inlinks\n",
    "            rank = sum(pagerank[inlink] / len(G.out_edges(inlink)) for inlink in G.predecessors(node))\n",
    "            \n",
    "            # Calculate new PageRank value\n",
    "            new_pagerank[node] = teleportation_prob / n + alpha * rank + beta\n",
    "\n",
    "        # Normalize PageRank values\n",
    "        total_pagerank = sum(new_pagerank.values())\n",
    "        pagerank = {node: value / total_pagerank for node, value in new_pagerank.items()}\n",
    "\n",
    "    return pagerank\n",
    "\n",
    "# Create a graph with 4 nodes\n",
    "G = nx.DiGraph()\n",
    "G.add_nodes_from([1, 2, 3, 4])\n",
    "\n",
    "# Add edges to the graph\n",
    "G.add_edges_from([(1, 2), (1,3), (1,4), (2,4), (3,1), (4,3)])\n",
    "\n",
    "alpha_values = [1, 0.3, 0.85, 0]\n",
    "beta_values = [0, 0.3, 1, 1]\n",
    "\n",
    "for alpha, beta in zip(alpha_values, beta_values):\n",
    "    # Compute PageRank with custom alpha and beta values\n",
    "    page_rank = custom_pagerank(G, alpha=alpha, beta=beta)\n",
    "\n",
    "    # Print PageRank for each node\n",
    "    print(\"PageRank for each node: alpha =\", alpha, \", beta =\", beta)\n",
    "    for node, rank in page_rank.items():\n",
    "        print(\"Node:\", node, \"PageRank:\", rank)\n"
   ]
  },
  {
   "cell_type": "code",
   "execution_count": 2,
   "metadata": {},
   "outputs": [
    {
     "name": "stdout",
     "output_type": "stream",
     "text": [
      "Requirement already satisfied: scikit-learn in /Library/Frameworks/Python.framework/Versions/3.11/lib/python3.11/site-packages (1.3.2)\n",
      "Requirement already satisfied: numpy<2.0,>=1.17.3 in /Library/Frameworks/Python.framework/Versions/3.11/lib/python3.11/site-packages (from scikit-learn) (1.26.1)\n",
      "Requirement already satisfied: scipy>=1.5.0 in /Library/Frameworks/Python.framework/Versions/3.11/lib/python3.11/site-packages (from scikit-learn) (1.11.4)\n",
      "Requirement already satisfied: joblib>=1.1.1 in /Library/Frameworks/Python.framework/Versions/3.11/lib/python3.11/site-packages (from scikit-learn) (1.3.2)\n",
      "Requirement already satisfied: threadpoolctl>=2.0.0 in /Library/Frameworks/Python.framework/Versions/3.11/lib/python3.11/site-packages (from scikit-learn) (3.2.0)\n",
      "Note: you may need to restart the kernel to use updated packages.\n"
     ]
    }
   ],
   "source": [
    "%pip install scikit-learn"
   ]
  },
  {
   "cell_type": "code",
   "execution_count": 4,
   "metadata": {},
   "outputs": [
    {
     "name": "stdout",
     "output_type": "stream",
     "text": [
      "|--- In a relationship <= 0.50\n",
      "|   |--- class: Yes\n",
      "|--- In a relationship >  0.50\n",
      "|   |--- Age <= 48.50\n",
      "|   |   |--- class: No\n",
      "|   |--- Age >  48.50\n",
      "|   |   |--- class: Yes\n",
      "\n"
     ]
    }
   ],
   "source": [
    "from sklearn.tree import DecisionTreeClassifier, export_text\n",
    "from sklearn.preprocessing import LabelEncoder\n",
    "import pandas as pd\n",
    "\n",
    "\n",
    "data = {\n",
    "    'Name': ['Kate', 'Joe', 'Mena', 'Pat', 'Tim', 'Tina'],\n",
    "    'City': ['Chicago', 'New York', 'New York', 'Chicago', 'Chicago', 'Chicago'],\n",
    "    'Likes Beyonce': ['Yes', 'No', 'Yes', 'No', 'Yes', 'Yes'],\n",
    "    'In a relationship': ['No', 'No', 'Yes', 'Yes', 'No', 'Yes'],\n",
    "    'Age': [23, 36, 43, 19, 20, 54],\n",
    "    'Number of concerts per year': [8, 4, 20, 2, 14, 7],\n",
    "    'Bought ticket to see Taylor Swift': ['Yes', 'Yes', 'No', 'No', 'Yes', 'Yes']\n",
    "}\n",
    "\n",
    "# Convert data to DataFrame\n",
    "df = pd.DataFrame(data)\n",
    "\n",
    "# Encode categorical variables using label encoding\n",
    "label_encoder = LabelEncoder()\n",
    "for col in ['City', 'Likes Beyonce', 'In a relationship']:\n",
    "    df[col] = label_encoder.fit_transform(df[col])\n",
    "\n",
    "# Extract features and target variable\n",
    "X = df.drop(columns=['Name', 'Bought ticket to see Taylor Swift'])\n",
    "y = df['Bought ticket to see Taylor Swift']\n",
    "\n",
    "# Initialize Decision Tree Classifier with entropy as criterion\n",
    "dt_classifier = DecisionTreeClassifier(criterion='entropy')\n",
    "\n",
    "# Fit the classifier to the data\n",
    "dt_classifier.fit(X, y)\n",
    "\n",
    "# Print the decision tree\n",
    "tree_text = export_text(dt_classifier, feature_names=list(X.columns))\n",
    "print(tree_text)\n"
   ]
  }
 ],
 "metadata": {
  "kernelspec": {
   "display_name": "Python 3",
   "language": "python",
   "name": "python3"
  },
  "language_info": {
   "codemirror_mode": {
    "name": "ipython",
    "version": 3
   },
   "file_extension": ".py",
   "mimetype": "text/x-python",
   "name": "python",
   "nbconvert_exporter": "python",
   "pygments_lexer": "ipython3",
   "version": "3.11.5"
  }
 },
 "nbformat": 4,
 "nbformat_minor": 2
}
